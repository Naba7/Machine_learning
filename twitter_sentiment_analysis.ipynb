{
 "cells": [
  {
   "cell_type": "code",
   "execution_count": 1,
   "metadata": {},
   "outputs": [],
   "source": [
    "import tweepy"
   ]
  },
  {
   "cell_type": "code",
   "execution_count": 2,
   "metadata": {},
   "outputs": [],
   "source": [
    "from textblob import TextBlob"
   ]
  },
  {
   "cell_type": "code",
   "execution_count": 4,
   "metadata": {},
   "outputs": [],
   "source": [
    "consumer_key='zMzRzeNwHzuid5DxCEMfXaerD'\n",
    "consumer_secret='fEpf1edAezfgrgaXY9Nm9zpgkW6ukhHjZbCOOZaRn9J4rrJYmt'"
   ]
  },
  {
   "cell_type": "code",
   "execution_count": 5,
   "metadata": {},
   "outputs": [],
   "source": [
    "access_token='2394639500-PkQZlCTi1vSLX4GZRSajSlSQdHv7nG9jL0L47y1'\n",
    "access_token_secret='aly9rczDmBm69RqR5PD88wDrm0UY0cirnVkzA7Qqqdzxz'"
   ]
  },
  {
   "cell_type": "code",
   "execution_count": 6,
   "metadata": {},
   "outputs": [],
   "source": [
    "auth=tweepy.OAuthHandler(consumer_key,consumer_secret)\n",
    "auth.set_access_token(access_token,access_token_secret)"
   ]
  },
  {
   "cell_type": "code",
   "execution_count": 7,
   "metadata": {},
   "outputs": [],
   "source": [
    "api=tweepy.API(auth)"
   ]
  },
  {
   "cell_type": "code",
   "execution_count": 8,
   "metadata": {},
   "outputs": [],
   "source": [
    "public_tweets=api.search('Trump')"
   ]
  },
  {
   "cell_type": "code",
   "execution_count": 9,
   "metadata": {},
   "outputs": [
    {
     "name": "stdout",
     "output_type": "stream",
     "text": [
      "RT @brianklaas: Putin murders journalists &amp; opponents, recently used a nerve agent to assassinate a dissident on British soil, annexed Crim…\n",
      "Sentiment(polarity=0.0, subjectivity=0.125)\n",
      "RT @forevergagaa: Who is the REAL president of the United States?\n",
      "\n",
      "RT for Lady Gaga\n",
      "Like for Donald Trump https://t.co/OGzpgpDFdj\n",
      "Sentiment(polarity=0.2, subjectivity=0.30000000000000004)\n",
      "@NewYorker @BorowitzReport I'm sorry is't that how you win is most votes cast? Or did trump screw it up again like he always does?\n",
      "Sentiment(polarity=0.26666666666666666, subjectivity=0.6333333333333333)\n",
      "RT @brianstelter: Damning headline on @ktumulty's latest column: \"Does anyone love our military less than President Trump?\" https://t.co/gl…\n",
      "Sentiment(polarity=0.18333333333333335, subjectivity=0.4166666666666667)\n",
      "Trump approves disaster declaration for California as fire devastation worsens https://t.co/PikLDDmp2z\n",
      "Sentiment(polarity=0.0, subjectivity=0.0)\n",
      "@roberto_ruizg Se le moja el peluquin a Trump\n",
      "Sentiment(polarity=0.0, subjectivity=0.0)\n",
      "RT @jumponmygrave: who is the REAL president of the united states? \n",
      "\n",
      "rt for Harry Shum Jr\n",
      "like for Donald Trump https://t.co/xbKn8zUeWI\n",
      "Sentiment(polarity=0.2, subjectivity=0.30000000000000004)\n",
      "RT @Newsweek: Michelle Obama: 'I stopped even trying to smile' during Trump's inauguration https://t.co/VN6Z9WxAY4 https://t.co/7DAVpnVzwT\n",
      "Sentiment(polarity=0.3, subjectivity=0.1)\n",
      "RT @williamlegate: There was an incident at Trump's rally…\n",
      "https://t.co/F9cgC0lrNO\n",
      "Sentiment(polarity=0.0, subjectivity=0.0)\n",
      "@LionelMedia 😂😂😂😂😂\n",
      "@businessinsider:\n",
      "@FLOTUS “Trump is once again pulling a hanger from @MichelleObama’s wardrobe.… https://t.co/nDGwUFFt6P\n",
      "Sentiment(polarity=0.0, subjectivity=0.0)\n",
      "RT @AC360: Despite multiple lawsuits and claims of rampant fraud, there is no evidence to support irregularities in the Florida midterm rac…\n",
      "Sentiment(polarity=0.0, subjectivity=0.0)\n",
      "This is heart breaking beyond words .  love and prayers and anything anyone can donate ..\n",
      "This is beyond comprehens… https://t.co/VLU2qFLw3n\n",
      "Sentiment(polarity=0.5, subjectivity=0.6)\n",
      "RT @Miss_Snuffy: Step outside of tribal politics! If a stranger can predict the political party you vote for, how you feel about Theresa Ma…\n",
      "Sentiment(polarity=0.0, subjectivity=0.07500000000000001)\n",
      "RT @NavyOfficiel: Rihanna remporte son procès contre Donald Trump ⚖️ \n",
      "\n",
      "Le président américain a désormais l’interdiction d’utiliser ne sera…\n",
      "Sentiment(polarity=0.0, subjectivity=0.0)\n",
      "RT @doctor_oxford: Excellent. There’s quite enough hate, intolerance &amp; racism being promoted in Trump’s America as it is. https://t.co/pwNo…\n",
      "Sentiment(polarity=0.06666666666666665, subjectivity=0.7999999999999999)\n"
     ]
    }
   ],
   "source": [
    "for tweet in public_tweets:\n",
    "    print(tweet.text)\n",
    "    analysis=TextBlob(tweet.text)\n",
    "    print(analysis.sentiment)"
   ]
  },
  {
   "cell_type": "code",
   "execution_count": null,
   "metadata": {},
   "outputs": [],
   "source": []
  }
 ],
 "metadata": {
  "kernelspec": {
   "display_name": "Python 3",
   "language": "python",
   "name": "python3"
  },
  "language_info": {
   "codemirror_mode": {
    "name": "ipython",
    "version": 3
   },
   "file_extension": ".py",
   "mimetype": "text/x-python",
   "name": "python",
   "nbconvert_exporter": "python",
   "pygments_lexer": "ipython3",
   "version": "3.6.5"
  }
 },
 "nbformat": 4,
 "nbformat_minor": 2
}
